{
  "cells": [
    {
      "cell_type": "markdown",
      "metadata": {
        "id": "qq_qvf1cV7Yz"
      },
      "source": [
        "\n",
        "# Pregunta 2 (10 puntos)\n",
        "# Antes de resolver los incisos, se recomienda leer todo el enunciado para identificar apropiadamente los tipos de datos de cada argumento de entrada de su función y evitar arrastre de error.\n",
        "\n",
        "La siguiente es una ecuación arbitraria que contempla la relación entre 3 arreglos:\n",
        "$$S = \\sum_{i=0}^{n-1} \\left( \\prod_{j=0}^{n-1} (A_i \\cdot B_j + C_i) \\right)\n",
        "$$\n",
        "\n",
        "Donde $A_i$ y $C_i$ son los términos i-ésimos de los arreglos A y C y $B_j$ es el término j-ésimo. Se sabe que los arreglos A y C son valores enteros con tamaño de elemento de 2 bytes y que B es un arreglo con alta precisión. Además, el resultado es un número de presición simple.\n",
        "\n",
        "Siendo así, se le pide lo siguiente:\n",
        "\n",
        "a) (2.0 puntos) Codificar una función en C que resuelva la ecuación propuesta. Además, considerar que su función debe ser de tipo void y debe dar la solución a través de un argumento de un puntero como argumento de entrada."
      ]
    },
    {
      "cell_type": "code",
      "execution_count": 1,
      "metadata": {
        "colab": {
          "base_uri": "https://localhost:8080/"
        },
        "id": "naohWE6JVzwG",
        "outputId": "1e3ba858-a593-4847-8215-cba8726e5cd0"
      },
      "outputs": [
        {
          "name": "stdout",
          "output_type": "stream",
          "text": [
            "Writing libreria_C.c\n"
          ]
        }
      ],
      "source": [
        "%%file libreria_C.c\n",
        "\n",
        "void calcular_en_c(short* A, double* B, short* C, int n, double *respuesta){\n",
        "    //La primera parte es la productoria\n",
        "\n",
        "    double suma=0.0;\n",
        "    for(int i=0; i<n; i++){\n",
        "        double producto=1.0;\n",
        "        for(int j=0; j<n;j++ ){\n",
        "            //Casteo pr seacaso sea el error del que hablo más adelante pero no\n",
        "            producto=producto*((((double)A[i])*B[j])+((double)C[i]));\n",
        "        }\n",
        "        suma=suma+producto;\n",
        "    }\n",
        "    *respuesta=suma;\n",
        "}"
      ]
    },
    {
      "cell_type": "code",
      "execution_count": 2,
      "metadata": {
        "id": "-9iqQbMMbska"
      },
      "outputs": [],
      "source": [
        "! gcc -c libreria_C.c -o libreria_C.o"
      ]
    },
    {
      "cell_type": "code",
      "execution_count": 3,
      "metadata": {
        "id": "T0I2FwlEbska"
      },
      "outputs": [],
      "source": [
        "! gcc -shared -o libreria_C.so libreria_C.c"
      ]
    },
    {
      "cell_type": "markdown",
      "metadata": {
        "id": "UZoOkXHoV5tc"
      },
      "source": [
        "b) (2.0 puntos) Codificar una función en Python que resuelva la ecuación propuesta. Considerar que esta función tampoco debe tener valor de retorno."
      ]
    },
    {
      "cell_type": "code",
      "execution_count": 4,
      "metadata": {
        "id": "HKa-bLQOgo0G"
      },
      "outputs": [],
      "source": [
        "def calcular_en_python( A,  B,  C, n, respuesta):\n",
        "    suma=0.0\n",
        "    for i in range(0,n):\n",
        "        producto=1.0\n",
        "        for j in range(0,n):\n",
        "            producto=producto*(A[i]*B[j]+C[i])\n",
        "        suma=suma+producto\n",
        "    global respuesta_P\n",
        "    respuesta_P=suma\n"
      ]
    },
    {
      "cell_type": "markdown",
      "metadata": {
        "id": "gJLaktsIgvIz"
      },
      "source": [
        "c) (2.0 punto) Llamar a la librería de C a través de Ctypes. Considerar que en este inciso se puede descontar puntaje adicional si es que los tipos de dato no han sido correctamente identificados."
      ]
    },
    {
      "cell_type": "code",
      "execution_count": 5,
      "metadata": {
        "id": "r7Z09WP_bskb"
      },
      "outputs": [],
      "source": [
        "import ctypes\n",
        "import numpy as np\n",
        "def funcion_vincula():\n",
        "\n",
        "    lib = ctypes.CDLL('./libreria_C.so')\n",
        "    lib.calcular_en_c.argtypes = [ np.ctypeslib.ndpointer(dtype=np.int16), np.ctypeslib.ndpointer(dtype=np.double), np.ctypeslib.ndpointer(dtype=np.int16), ctypes.c_int, ctypes.c_double]\n",
        "    #Es void, no es necesario declarar las slidas pues no tiene\n",
        "    return lib.calcular_en_c"
      ]
    },
    {
      "cell_type": "markdown",
      "metadata": {
        "id": "E50J4ZCJhQsm"
      },
      "source": [
        "d) (1.0 punto) Probar sus funciones con 2 arreglos aleatorios de 16 elementos."
      ]
    },
    {
      "cell_type": "code",
      "execution_count": null,
      "metadata": {
        "id": "DQJ9Rsi1ik9E"
      },
      "outputs": [],
      "source": [
        "#Primero creamos los arreglos aleatorios y los casteamos para qe cumpaln con los argumentos de entrada de las funciones\n",
        "import numpy as np\n",
        "n=8\n",
        "#Multiplico por 10 para que no sean 0\n",
        "a =(np.random.rand(n,1)*10).astype(np.int16)\n",
        "b= (np.random.rand(n,1)*10).astype(np.double)\n",
        "c= (np.random.rand(n,1)*10).astype(np.int16)\n",
        "\n",
        "#LLamamos a la función(hacemos instancia)\n",
        "calcula_python_C=funcion_vincula()\n",
        "respuesta_C=0\n",
        "\n",
        "calcula_python_C(a,b,c,n,respuesta_C)\n",
        "print(respuesta_C)\n",
        "\n",
        "respuesta_P=0\n",
        "calcular_en_python( a,b,c,n, respuesta_P)\n",
        "print(respuesta_P)\n",
        "\n",
        "##Salía el error La sesión caducó al ejecutar y no me dejaba, el código en C está bien al parecer pues en Python sí funciona, por favor revisar el código siguiente\n"
      ]
    },
    {
      "cell_type": "markdown",
      "metadata": {
        "id": "0moM0SfJikiU"
      },
      "source": [
        "e) (1.0 punto) Mostrar una gráfica del análisis temporal para un tamaño de elementos igual a 1024. Considerar 25 iteraciones."
      ]
    },
    {
      "cell_type": "code",
      "execution_count": null,
      "metadata": {
        "id": "sUnHJ1YSi4X8"
      },
      "outputs": [],
      "source": [
        "import time\n",
        "import statistics\n",
        "import matplotlib.pyplot as plt\n",
        "\n",
        "n=1024\n",
        "a =np.random.rand(n,1).astype(np.int16)\n",
        "b= np.random.rand(n,1).astype(np.double)\n",
        "c= np.random.rand(n,1).astype(np.int16)\n",
        "\n",
        "#De la misma forma corresponden a cada función respectivamente\n",
        "iteraciones = 25\n",
        "lista_func1 = []\n",
        "lista_func2 = []\n",
        "\n",
        "for _ in range(iteraciones):\n",
        "    tic1 = time.perf_counter()\n",
        "    calcula_python_C(a,b,c,n,respuesta_C)\n",
        "    toc1 = time.perf_counter()\n",
        "    calcular_en_python( a,b,c,n, respuesta_P)\n",
        "    tic2 = time.perf_counter()\n",
        "\n",
        "    lista_func1.append(toc1-tic1)\n",
        "    lista_func2.append(tic2-toc1)\n",
        "\n",
        "plt.plot([1,2,3,4,5,6,7,8,9,10,11,12,13,14,15,16,17,18,19,20],lista_func1, label='Función en C')\n",
        "plt.plot([1,2,3,4,5,6,7,8,9,10,11,12,13,14,15,16,17,18,19,20],lista_func2,label='Funcion en Python')\n",
        "\n",
        "plt.xlabel(\"cant_iter\")\n",
        "plt.ylabel(\"tiempo\")\n",
        "plt.grid()\n",
        "plt.legend()\n",
        "\n"
      ]
    },
    {
      "cell_type": "markdown",
      "metadata": {
        "id": "wxyiFEJJi5Sn"
      },
      "source": [
        "f) (1.0 punto) Mostrar una gráfica del SpeedUP para valores de N que van desde $2^{10}$ hasta $2^{16}$. No olvidar las iteraciones y el cálculo de la mediana para tomar el tiempo representativo para cada N."
      ]
    },
    {
      "cell_type": "code",
      "execution_count": null,
      "metadata": {
        "id": "B9nxoUHfRexf"
      },
      "outputs": [],
      "source": [
        "##Definimos los diferentes valores de elemntos que tendrá:\n",
        "N=[2**10,2**11,2**12,2**13,2**14,2**15,2**6]\n",
        "lista_funcion1_N = []\n",
        "lista_funcion2_N = []\n",
        "for n in N:\n",
        "  a =(np.random.rand(n,1)*10).astype(np.int16)\n",
        "  b= (np.random.rand(n,1)*10).astype(np.double)\n",
        "  c= (np.random.rand(n,1)*10).astype(np.int16)\n",
        "  lista_funcion1_N = []\n",
        "  lista_funcion2_N = []\n",
        "  #De la misma forma corresponden a cada función respectivamente\n",
        "  iteraciones = 25\n",
        "  lista_func1 = []\n",
        "  lista_func2 = []\n",
        "\n",
        "  for _ in range(iteraciones):\n",
        "      tic1 = time.perf_counter()\n",
        "      calcula_python_C(a,b,c,n,respuesta_C)\n",
        "      toc1 = time.perf_counter()\n",
        "      calcular_en_python( a,b,c,n, respuesta_P)\n",
        "      tic2 = time.perf_counter()\n",
        "      lista_func1.append(toc1-tic1)\n",
        "      lista_func2.append(tic2-toc1)\n",
        "  lista_funcion1_N.append(statistics.median(lista_func1))\n",
        "  lista_funcion2_N.append(statistics.median(lista_func2))\n",
        "\n",
        "#Al finalizar esta ejecucion ya tenemos dos listas con las 7 medianas cada una\n",
        "#Caldeculamos speed up y graficamos\n",
        "res = [i / j for i, j in zip(lista_funcion1_N, lista_funcion2_N)]\n",
        "plt.plot([1,2,3,4,5,6,7],res,label='speed')\n"
      ]
    },
    {
      "cell_type": "markdown",
      "metadata": {
        "id": "HSpNPlCEjLRz"
      },
      "source": [
        "g) (1.0 punto) Realizar comentarios acerca de sus experiencias. Incluir específicamente sus conclusiones en las diferencias de implementación de C y Python."
      ]
    },
    {
      "attachments": {},
      "cell_type": "markdown",
      "metadata": {
        "id": "XSxrh29njjQ9"
      },
      "source": [
        "REVISAR: por favor :(\n",
        "Respuesta: DE la experiencia se puede rescatar que lo más probable es que la función en C sea la más optima, ello se evidenciaría en las gráficas mostrando que ejecuta en menores tiempos de ejecución para arreglos del mismo tamaño, así mismo estos valores se estabilizan para un mayor número de iteraciones. Por lo demás notamos que estas funciones aprovechan tanto la localidad temporal, pues acceden de forma continua a un mismo dato como lo sería un termino de un arreglo y de localidad espacial pues en futuros acceden a valores que vienen con el bloque pero que no se usan inmediatamente. \n"
      ]
    }
  ],
  "metadata": {
    "colab": {
      "provenance": []
    },
    "kernelspec": {
      "display_name": "Python 3",
      "name": "python3"
    },
    "language_info": {
      "codemirror_mode": {
        "name": "ipython",
        "version": 3
      },
      "file_extension": ".py",
      "mimetype": "text/x-python",
      "name": "python",
      "nbconvert_exporter": "python",
      "pygments_lexer": "ipython3",
      "version": "3.10.4"
    }
  },
  "nbformat": 4,
  "nbformat_minor": 0
}
